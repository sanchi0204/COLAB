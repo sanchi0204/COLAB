{
 "cells": [
  {
   "cell_type": "code",
   "execution_count": 3,
   "metadata": {},
   "outputs": [],
   "source": [
    "import numpy as np\n",
    "import pandas as pd\n",
    "import matplotlib.pyplot as plt\n",
    "\n",
    "# %matplotlib inline\n",
    "plt.style.use(\"ggplot\")\n",
    "\n",
    "import sklearn\n",
    "from sklearn.decomposition import TruncatedSVD\n",
    "import pickle"
   ]
  },
  {
   "cell_type": "code",
   "execution_count": 51,
   "metadata": {},
   "outputs": [
    {
     "name": "stdout",
     "output_type": "stream",
     "text": [
      "Note: you may need to restart the kernel to use updated packages.\n"
     ]
    },
    {
     "name": "stderr",
     "output_type": "stream",
     "text": [
      "WARNING: Could not generate requirement for distribution -umpy 1.16.5 (c:\\users\\lenovo\\anaconda3\\lib\\site-packages): Parse error at \"'-umpy==1'\": Expected W:(abcd...)\n",
      "WARNING: Could not generate requirement for distribution -pencv-python 4.1.1.26 (c:\\users\\lenovo\\anaconda3\\lib\\site-packages): Parse error at \"'-pencv-p'\": Expected W:(abcd...)\n",
      "WARNING: Could not generate requirement for distribution -cipy 1.3.1 (c:\\users\\lenovo\\anaconda3\\lib\\site-packages): Parse error at \"'-cipy==1'\": Expected W:(abcd...)\n",
      "WARNING: Could not generate requirement for distribution -atplotlib 3.1.1 (c:\\users\\lenovo\\anaconda3\\lib\\site-packages): Parse error at \"'-atplotl'\": Expected W:(abcd...)\n",
      "WARNING: Could not generate requirement for distribution -ast 0.2.2 (c:\\users\\lenovo\\anaconda3\\lib\\site-packages): Parse error at \"'-ast==0.'\": Expected W:(abcd...)\n"
     ]
    }
   ],
   "source": [
    "pip freeze > requiremento.txt"
   ]
  },
  {
   "cell_type": "code",
   "execution_count": 4,
   "metadata": {},
   "outputs": [
    {
     "data": {
      "text/html": [
       "<div>\n",
       "<style scoped>\n",
       "    .dataframe tbody tr th:only-of-type {\n",
       "        vertical-align: middle;\n",
       "    }\n",
       "\n",
       "    .dataframe tbody tr th {\n",
       "        vertical-align: top;\n",
       "    }\n",
       "\n",
       "    .dataframe thead th {\n",
       "        text-align: right;\n",
       "    }\n",
       "</style>\n",
       "<table border=\"1\" class=\"dataframe\">\n",
       "  <thead>\n",
       "    <tr style=\"text-align: right;\">\n",
       "      <th></th>\n",
       "      <th>UserId</th>\n",
       "      <th>ProductId</th>\n",
       "      <th>Rating</th>\n",
       "      <th>Timestamp</th>\n",
       "    </tr>\n",
       "  </thead>\n",
       "  <tbody>\n",
       "    <tr>\n",
       "      <th>0</th>\n",
       "      <td>A39HTATAQ9V7YF</td>\n",
       "      <td>0205616461</td>\n",
       "      <td>5.0</td>\n",
       "      <td>1369699200</td>\n",
       "    </tr>\n",
       "    <tr>\n",
       "      <th>1</th>\n",
       "      <td>A3JM6GV9MNOF9X</td>\n",
       "      <td>0558925278</td>\n",
       "      <td>3.0</td>\n",
       "      <td>1355443200</td>\n",
       "    </tr>\n",
       "    <tr>\n",
       "      <th>2</th>\n",
       "      <td>A1Z513UWSAAO0F</td>\n",
       "      <td>0558925278</td>\n",
       "      <td>5.0</td>\n",
       "      <td>1404691200</td>\n",
       "    </tr>\n",
       "    <tr>\n",
       "      <th>3</th>\n",
       "      <td>A1WMRR494NWEWV</td>\n",
       "      <td>0733001998</td>\n",
       "      <td>4.0</td>\n",
       "      <td>1382572800</td>\n",
       "    </tr>\n",
       "    <tr>\n",
       "      <th>4</th>\n",
       "      <td>A3IAAVS479H7M7</td>\n",
       "      <td>0737104473</td>\n",
       "      <td>1.0</td>\n",
       "      <td>1274227200</td>\n",
       "    </tr>\n",
       "  </tbody>\n",
       "</table>\n",
       "</div>"
      ],
      "text/plain": [
       "           UserId   ProductId  Rating   Timestamp\n",
       "0  A39HTATAQ9V7YF  0205616461     5.0  1369699200\n",
       "1  A3JM6GV9MNOF9X  0558925278     3.0  1355443200\n",
       "2  A1Z513UWSAAO0F  0558925278     5.0  1404691200\n",
       "3  A1WMRR494NWEWV  0733001998     4.0  1382572800\n",
       "4  A3IAAVS479H7M7  0737104473     1.0  1274227200"
      ]
     },
     "execution_count": 4,
     "metadata": {},
     "output_type": "execute_result"
    }
   ],
   "source": [
    "amazon_ratings = pd.read_csv('ratings_Beauty.csv')\n",
    "amazon_ratings = amazon_ratings.dropna()\n",
    "amazon_ratings.head()"
   ]
  },
  {
   "cell_type": "code",
   "execution_count": 5,
   "metadata": {},
   "outputs": [
    {
     "data": {
      "text/plain": [
       "(2023070, 4)"
      ]
     },
     "execution_count": 5,
     "metadata": {},
     "output_type": "execute_result"
    }
   ],
   "source": [
    "amazon_ratings.shape"
   ]
  },
  {
   "cell_type": "code",
   "execution_count": 6,
   "metadata": {},
   "outputs": [],
   "source": [
    "# Subset of Amazon Ratings\n",
    "\n",
    "amazon_ratings1 = amazon_ratings.head(10000)"
   ]
  },
  {
   "cell_type": "code",
   "execution_count": 7,
   "metadata": {},
   "outputs": [
    {
     "data": {
      "text/html": [
       "<div>\n",
       "<style scoped>\n",
       "    .dataframe tbody tr th:only-of-type {\n",
       "        vertical-align: middle;\n",
       "    }\n",
       "\n",
       "    .dataframe tbody tr th {\n",
       "        vertical-align: top;\n",
       "    }\n",
       "\n",
       "    .dataframe thead th {\n",
       "        text-align: right;\n",
       "    }\n",
       "</style>\n",
       "<table border=\"1\" class=\"dataframe\">\n",
       "  <thead>\n",
       "    <tr style=\"text-align: right;\">\n",
       "      <th>ProductId</th>\n",
       "      <th>0205616461</th>\n",
       "      <th>0558925278</th>\n",
       "      <th>0733001998</th>\n",
       "      <th>0737104473</th>\n",
       "      <th>0762451459</th>\n",
       "      <th>1304139212</th>\n",
       "      <th>1304139220</th>\n",
       "      <th>130414089X</th>\n",
       "      <th>130414643X</th>\n",
       "      <th>1304146537</th>\n",
       "      <th>...</th>\n",
       "      <th>B000052YPE</th>\n",
       "      <th>B000052YPF</th>\n",
       "      <th>B000052YPG</th>\n",
       "      <th>B000052YPH</th>\n",
       "      <th>B000052YPM</th>\n",
       "      <th>B000052YPU</th>\n",
       "      <th>B000052YPV</th>\n",
       "      <th>B000052YPY</th>\n",
       "      <th>B000052YQ0</th>\n",
       "      <th>B000052YQ2</th>\n",
       "    </tr>\n",
       "    <tr>\n",
       "      <th>UserId</th>\n",
       "      <th></th>\n",
       "      <th></th>\n",
       "      <th></th>\n",
       "      <th></th>\n",
       "      <th></th>\n",
       "      <th></th>\n",
       "      <th></th>\n",
       "      <th></th>\n",
       "      <th></th>\n",
       "      <th></th>\n",
       "      <th></th>\n",
       "      <th></th>\n",
       "      <th></th>\n",
       "      <th></th>\n",
       "      <th></th>\n",
       "      <th></th>\n",
       "      <th></th>\n",
       "      <th></th>\n",
       "      <th></th>\n",
       "      <th></th>\n",
       "      <th></th>\n",
       "    </tr>\n",
       "  </thead>\n",
       "  <tbody>\n",
       "    <tr>\n",
       "      <th>A00205921JHJK5X9LNP42</th>\n",
       "      <td>0</td>\n",
       "      <td>0</td>\n",
       "      <td>0</td>\n",
       "      <td>0</td>\n",
       "      <td>0</td>\n",
       "      <td>0</td>\n",
       "      <td>0</td>\n",
       "      <td>0</td>\n",
       "      <td>0</td>\n",
       "      <td>0</td>\n",
       "      <td>...</td>\n",
       "      <td>0</td>\n",
       "      <td>0</td>\n",
       "      <td>0</td>\n",
       "      <td>0</td>\n",
       "      <td>0</td>\n",
       "      <td>0</td>\n",
       "      <td>0</td>\n",
       "      <td>0</td>\n",
       "      <td>0</td>\n",
       "      <td>0</td>\n",
       "    </tr>\n",
       "    <tr>\n",
       "      <th>A024581134CV80ZBLIZTZ</th>\n",
       "      <td>0</td>\n",
       "      <td>0</td>\n",
       "      <td>0</td>\n",
       "      <td>0</td>\n",
       "      <td>0</td>\n",
       "      <td>0</td>\n",
       "      <td>0</td>\n",
       "      <td>0</td>\n",
       "      <td>0</td>\n",
       "      <td>0</td>\n",
       "      <td>...</td>\n",
       "      <td>0</td>\n",
       "      <td>0</td>\n",
       "      <td>0</td>\n",
       "      <td>0</td>\n",
       "      <td>0</td>\n",
       "      <td>0</td>\n",
       "      <td>0</td>\n",
       "      <td>0</td>\n",
       "      <td>0</td>\n",
       "      <td>0</td>\n",
       "    </tr>\n",
       "    <tr>\n",
       "      <th>A03056581JJIOL5FSKJY7</th>\n",
       "      <td>0</td>\n",
       "      <td>0</td>\n",
       "      <td>0</td>\n",
       "      <td>0</td>\n",
       "      <td>0</td>\n",
       "      <td>0</td>\n",
       "      <td>0</td>\n",
       "      <td>0</td>\n",
       "      <td>0</td>\n",
       "      <td>0</td>\n",
       "      <td>...</td>\n",
       "      <td>0</td>\n",
       "      <td>0</td>\n",
       "      <td>0</td>\n",
       "      <td>0</td>\n",
       "      <td>0</td>\n",
       "      <td>0</td>\n",
       "      <td>0</td>\n",
       "      <td>0</td>\n",
       "      <td>0</td>\n",
       "      <td>0</td>\n",
       "    </tr>\n",
       "    <tr>\n",
       "      <th>A03099101ZRK4K607JVHH</th>\n",
       "      <td>0</td>\n",
       "      <td>0</td>\n",
       "      <td>0</td>\n",
       "      <td>0</td>\n",
       "      <td>0</td>\n",
       "      <td>0</td>\n",
       "      <td>0</td>\n",
       "      <td>0</td>\n",
       "      <td>0</td>\n",
       "      <td>0</td>\n",
       "      <td>...</td>\n",
       "      <td>0</td>\n",
       "      <td>0</td>\n",
       "      <td>0</td>\n",
       "      <td>0</td>\n",
       "      <td>0</td>\n",
       "      <td>0</td>\n",
       "      <td>0</td>\n",
       "      <td>0</td>\n",
       "      <td>0</td>\n",
       "      <td>0</td>\n",
       "    </tr>\n",
       "    <tr>\n",
       "      <th>A0505229A7NSH3FRXRR4</th>\n",
       "      <td>0</td>\n",
       "      <td>0</td>\n",
       "      <td>0</td>\n",
       "      <td>0</td>\n",
       "      <td>0</td>\n",
       "      <td>0</td>\n",
       "      <td>0</td>\n",
       "      <td>0</td>\n",
       "      <td>0</td>\n",
       "      <td>0</td>\n",
       "      <td>...</td>\n",
       "      <td>0</td>\n",
       "      <td>0</td>\n",
       "      <td>0</td>\n",
       "      <td>0</td>\n",
       "      <td>0</td>\n",
       "      <td>0</td>\n",
       "      <td>0</td>\n",
       "      <td>0</td>\n",
       "      <td>0</td>\n",
       "      <td>0</td>\n",
       "    </tr>\n",
       "  </tbody>\n",
       "</table>\n",
       "<p>5 rows × 886 columns</p>\n",
       "</div>"
      ],
      "text/plain": [
       "ProductId              0205616461  0558925278  0733001998  0737104473  \\\n",
       "UserId                                                                  \n",
       "A00205921JHJK5X9LNP42           0           0           0           0   \n",
       "A024581134CV80ZBLIZTZ           0           0           0           0   \n",
       "A03056581JJIOL5FSKJY7           0           0           0           0   \n",
       "A03099101ZRK4K607JVHH           0           0           0           0   \n",
       "A0505229A7NSH3FRXRR4            0           0           0           0   \n",
       "\n",
       "ProductId              0762451459  1304139212  1304139220  130414089X  \\\n",
       "UserId                                                                  \n",
       "A00205921JHJK5X9LNP42           0           0           0           0   \n",
       "A024581134CV80ZBLIZTZ           0           0           0           0   \n",
       "A03056581JJIOL5FSKJY7           0           0           0           0   \n",
       "A03099101ZRK4K607JVHH           0           0           0           0   \n",
       "A0505229A7NSH3FRXRR4            0           0           0           0   \n",
       "\n",
       "ProductId              130414643X  1304146537  ...  B000052YPE  B000052YPF  \\\n",
       "UserId                                         ...                           \n",
       "A00205921JHJK5X9LNP42           0           0  ...           0           0   \n",
       "A024581134CV80ZBLIZTZ           0           0  ...           0           0   \n",
       "A03056581JJIOL5FSKJY7           0           0  ...           0           0   \n",
       "A03099101ZRK4K607JVHH           0           0  ...           0           0   \n",
       "A0505229A7NSH3FRXRR4            0           0  ...           0           0   \n",
       "\n",
       "ProductId              B000052YPG  B000052YPH  B000052YPM  B000052YPU  \\\n",
       "UserId                                                                  \n",
       "A00205921JHJK5X9LNP42           0           0           0           0   \n",
       "A024581134CV80ZBLIZTZ           0           0           0           0   \n",
       "A03056581JJIOL5FSKJY7           0           0           0           0   \n",
       "A03099101ZRK4K607JVHH           0           0           0           0   \n",
       "A0505229A7NSH3FRXRR4            0           0           0           0   \n",
       "\n",
       "ProductId              B000052YPV  B000052YPY  B000052YQ0  B000052YQ2  \n",
       "UserId                                                                 \n",
       "A00205921JHJK5X9LNP42           0           0           0           0  \n",
       "A024581134CV80ZBLIZTZ           0           0           0           0  \n",
       "A03056581JJIOL5FSKJY7           0           0           0           0  \n",
       "A03099101ZRK4K607JVHH           0           0           0           0  \n",
       "A0505229A7NSH3FRXRR4            0           0           0           0  \n",
       "\n",
       "[5 rows x 886 columns]"
      ]
     },
     "execution_count": 7,
     "metadata": {},
     "output_type": "execute_result"
    }
   ],
   "source": [
    "ratings_utility_matrix = amazon_ratings1.pivot_table(values='Rating', index='UserId', columns='ProductId', fill_value=0)\n",
    "ratings_utility_matrix.head()"
   ]
  },
  {
   "cell_type": "markdown",
   "metadata": {},
   "source": [
    "As expected, the utility matrix obtaned above is sparce, I have filled up the unknown values wth 0."
   ]
  },
  {
   "cell_type": "code",
   "execution_count": 8,
   "metadata": {},
   "outputs": [
    {
     "data": {
      "text/plain": [
       "(9697, 886)"
      ]
     },
     "execution_count": 8,
     "metadata": {},
     "output_type": "execute_result"
    }
   ],
   "source": [
    "ratings_utility_matrix.shape"
   ]
  },
  {
   "cell_type": "markdown",
   "metadata": {},
   "source": [
    "Transposing the matrix"
   ]
  },
  {
   "cell_type": "code",
   "execution_count": 9,
   "metadata": {},
   "outputs": [
    {
     "data": {
      "text/html": [
       "<div>\n",
       "<style scoped>\n",
       "    .dataframe tbody tr th:only-of-type {\n",
       "        vertical-align: middle;\n",
       "    }\n",
       "\n",
       "    .dataframe tbody tr th {\n",
       "        vertical-align: top;\n",
       "    }\n",
       "\n",
       "    .dataframe thead th {\n",
       "        text-align: right;\n",
       "    }\n",
       "</style>\n",
       "<table border=\"1\" class=\"dataframe\">\n",
       "  <thead>\n",
       "    <tr style=\"text-align: right;\">\n",
       "      <th>UserId</th>\n",
       "      <th>A00205921JHJK5X9LNP42</th>\n",
       "      <th>A024581134CV80ZBLIZTZ</th>\n",
       "      <th>A03056581JJIOL5FSKJY7</th>\n",
       "      <th>A03099101ZRK4K607JVHH</th>\n",
       "      <th>A0505229A7NSH3FRXRR4</th>\n",
       "      <th>A05492663T95KW63BR75K</th>\n",
       "      <th>A059547920Q3LZVFHLPI3</th>\n",
       "      <th>A07410232KYRFR25CIUGJ</th>\n",
       "      <th>A082796624UNM47DSAI6K</th>\n",
       "      <th>A0864963DOAY7LXGS5I6</th>\n",
       "      <th>...</th>\n",
       "      <th>AZW1HXXYAC15B</th>\n",
       "      <th>AZWRTJPN7NXT</th>\n",
       "      <th>AZWTXHXZXFAYP</th>\n",
       "      <th>AZYQEFB9Y5N22</th>\n",
       "      <th>AZZHB6U54UDYW</th>\n",
       "      <th>AZZHJZP4GQPPZ</th>\n",
       "      <th>AZZNK89PXD006</th>\n",
       "      <th>AZZOFVMQC0BJG</th>\n",
       "      <th>AZZQXL8VDCFTV</th>\n",
       "      <th>AZZTJQ7CQZUD8</th>\n",
       "    </tr>\n",
       "    <tr>\n",
       "      <th>ProductId</th>\n",
       "      <th></th>\n",
       "      <th></th>\n",
       "      <th></th>\n",
       "      <th></th>\n",
       "      <th></th>\n",
       "      <th></th>\n",
       "      <th></th>\n",
       "      <th></th>\n",
       "      <th></th>\n",
       "      <th></th>\n",
       "      <th></th>\n",
       "      <th></th>\n",
       "      <th></th>\n",
       "      <th></th>\n",
       "      <th></th>\n",
       "      <th></th>\n",
       "      <th></th>\n",
       "      <th></th>\n",
       "      <th></th>\n",
       "      <th></th>\n",
       "      <th></th>\n",
       "    </tr>\n",
       "  </thead>\n",
       "  <tbody>\n",
       "    <tr>\n",
       "      <th>0205616461</th>\n",
       "      <td>0</td>\n",
       "      <td>0</td>\n",
       "      <td>0</td>\n",
       "      <td>0</td>\n",
       "      <td>0</td>\n",
       "      <td>0</td>\n",
       "      <td>0</td>\n",
       "      <td>0</td>\n",
       "      <td>0</td>\n",
       "      <td>0</td>\n",
       "      <td>...</td>\n",
       "      <td>0</td>\n",
       "      <td>0</td>\n",
       "      <td>0</td>\n",
       "      <td>0</td>\n",
       "      <td>0</td>\n",
       "      <td>0</td>\n",
       "      <td>0</td>\n",
       "      <td>0</td>\n",
       "      <td>0</td>\n",
       "      <td>0</td>\n",
       "    </tr>\n",
       "    <tr>\n",
       "      <th>0558925278</th>\n",
       "      <td>0</td>\n",
       "      <td>0</td>\n",
       "      <td>0</td>\n",
       "      <td>0</td>\n",
       "      <td>0</td>\n",
       "      <td>0</td>\n",
       "      <td>0</td>\n",
       "      <td>0</td>\n",
       "      <td>0</td>\n",
       "      <td>0</td>\n",
       "      <td>...</td>\n",
       "      <td>0</td>\n",
       "      <td>0</td>\n",
       "      <td>0</td>\n",
       "      <td>0</td>\n",
       "      <td>0</td>\n",
       "      <td>0</td>\n",
       "      <td>0</td>\n",
       "      <td>0</td>\n",
       "      <td>0</td>\n",
       "      <td>0</td>\n",
       "    </tr>\n",
       "    <tr>\n",
       "      <th>0733001998</th>\n",
       "      <td>0</td>\n",
       "      <td>0</td>\n",
       "      <td>0</td>\n",
       "      <td>0</td>\n",
       "      <td>0</td>\n",
       "      <td>0</td>\n",
       "      <td>0</td>\n",
       "      <td>0</td>\n",
       "      <td>0</td>\n",
       "      <td>0</td>\n",
       "      <td>...</td>\n",
       "      <td>0</td>\n",
       "      <td>0</td>\n",
       "      <td>0</td>\n",
       "      <td>0</td>\n",
       "      <td>0</td>\n",
       "      <td>0</td>\n",
       "      <td>0</td>\n",
       "      <td>0</td>\n",
       "      <td>0</td>\n",
       "      <td>0</td>\n",
       "    </tr>\n",
       "    <tr>\n",
       "      <th>0737104473</th>\n",
       "      <td>0</td>\n",
       "      <td>0</td>\n",
       "      <td>0</td>\n",
       "      <td>0</td>\n",
       "      <td>0</td>\n",
       "      <td>0</td>\n",
       "      <td>0</td>\n",
       "      <td>0</td>\n",
       "      <td>0</td>\n",
       "      <td>0</td>\n",
       "      <td>...</td>\n",
       "      <td>0</td>\n",
       "      <td>0</td>\n",
       "      <td>0</td>\n",
       "      <td>0</td>\n",
       "      <td>0</td>\n",
       "      <td>0</td>\n",
       "      <td>0</td>\n",
       "      <td>0</td>\n",
       "      <td>0</td>\n",
       "      <td>0</td>\n",
       "    </tr>\n",
       "    <tr>\n",
       "      <th>0762451459</th>\n",
       "      <td>0</td>\n",
       "      <td>0</td>\n",
       "      <td>0</td>\n",
       "      <td>0</td>\n",
       "      <td>0</td>\n",
       "      <td>0</td>\n",
       "      <td>0</td>\n",
       "      <td>0</td>\n",
       "      <td>0</td>\n",
       "      <td>0</td>\n",
       "      <td>...</td>\n",
       "      <td>0</td>\n",
       "      <td>0</td>\n",
       "      <td>0</td>\n",
       "      <td>0</td>\n",
       "      <td>0</td>\n",
       "      <td>0</td>\n",
       "      <td>0</td>\n",
       "      <td>0</td>\n",
       "      <td>0</td>\n",
       "      <td>0</td>\n",
       "    </tr>\n",
       "  </tbody>\n",
       "</table>\n",
       "<p>5 rows × 9697 columns</p>\n",
       "</div>"
      ],
      "text/plain": [
       "UserId      A00205921JHJK5X9LNP42  A024581134CV80ZBLIZTZ  \\\n",
       "ProductId                                                  \n",
       "0205616461                      0                      0   \n",
       "0558925278                      0                      0   \n",
       "0733001998                      0                      0   \n",
       "0737104473                      0                      0   \n",
       "0762451459                      0                      0   \n",
       "\n",
       "UserId      A03056581JJIOL5FSKJY7  A03099101ZRK4K607JVHH  \\\n",
       "ProductId                                                  \n",
       "0205616461                      0                      0   \n",
       "0558925278                      0                      0   \n",
       "0733001998                      0                      0   \n",
       "0737104473                      0                      0   \n",
       "0762451459                      0                      0   \n",
       "\n",
       "UserId      A0505229A7NSH3FRXRR4  A05492663T95KW63BR75K  \\\n",
       "ProductId                                                 \n",
       "0205616461                     0                      0   \n",
       "0558925278                     0                      0   \n",
       "0733001998                     0                      0   \n",
       "0737104473                     0                      0   \n",
       "0762451459                     0                      0   \n",
       "\n",
       "UserId      A059547920Q3LZVFHLPI3  A07410232KYRFR25CIUGJ  \\\n",
       "ProductId                                                  \n",
       "0205616461                      0                      0   \n",
       "0558925278                      0                      0   \n",
       "0733001998                      0                      0   \n",
       "0737104473                      0                      0   \n",
       "0762451459                      0                      0   \n",
       "\n",
       "UserId      A082796624UNM47DSAI6K  A0864963DOAY7LXGS5I6  ...  AZW1HXXYAC15B  \\\n",
       "ProductId                                                ...                  \n",
       "0205616461                      0                     0  ...              0   \n",
       "0558925278                      0                     0  ...              0   \n",
       "0733001998                      0                     0  ...              0   \n",
       "0737104473                      0                     0  ...              0   \n",
       "0762451459                      0                     0  ...              0   \n",
       "\n",
       "UserId      AZWRTJPN7NXT  AZWTXHXZXFAYP  AZYQEFB9Y5N22  AZZHB6U54UDYW  \\\n",
       "ProductId                                                               \n",
       "0205616461             0              0              0              0   \n",
       "0558925278             0              0              0              0   \n",
       "0733001998             0              0              0              0   \n",
       "0737104473             0              0              0              0   \n",
       "0762451459             0              0              0              0   \n",
       "\n",
       "UserId      AZZHJZP4GQPPZ  AZZNK89PXD006  AZZOFVMQC0BJG  AZZQXL8VDCFTV  \\\n",
       "ProductId                                                                \n",
       "0205616461              0              0              0              0   \n",
       "0558925278              0              0              0              0   \n",
       "0733001998              0              0              0              0   \n",
       "0737104473              0              0              0              0   \n",
       "0762451459              0              0              0              0   \n",
       "\n",
       "UserId      AZZTJQ7CQZUD8  \n",
       "ProductId                  \n",
       "0205616461              0  \n",
       "0558925278              0  \n",
       "0733001998              0  \n",
       "0737104473              0  \n",
       "0762451459              0  \n",
       "\n",
       "[5 rows x 9697 columns]"
      ]
     },
     "execution_count": 9,
     "metadata": {},
     "output_type": "execute_result"
    }
   ],
   "source": [
    "X = ratings_utility_matrix.T\n",
    "X.head()"
   ]
  },
  {
   "cell_type": "code",
   "execution_count": 10,
   "metadata": {},
   "outputs": [
    {
     "data": {
      "text/plain": [
       "(886, 9697)"
      ]
     },
     "execution_count": 10,
     "metadata": {},
     "output_type": "execute_result"
    }
   ],
   "source": [
    "X.shape"
   ]
  },
  {
   "cell_type": "markdown",
   "metadata": {},
   "source": [
    "Unique products in subset of data"
   ]
  },
  {
   "cell_type": "code",
   "execution_count": 11,
   "metadata": {},
   "outputs": [],
   "source": [
    "X1 = X"
   ]
  },
  {
   "cell_type": "markdown",
   "metadata": {},
   "source": [
    "### Decomposing the Matrix"
   ]
  },
  {
   "cell_type": "code",
   "execution_count": 12,
   "metadata": {},
   "outputs": [
    {
     "data": {
      "text/plain": [
       "(886, 10)"
      ]
     },
     "execution_count": 12,
     "metadata": {},
     "output_type": "execute_result"
    }
   ],
   "source": [
    "SVD = TruncatedSVD(n_components=10)\n",
    "decomposed_matrix = SVD.fit_transform(X)\n",
    "decomposed_matrix.shape"
   ]
  },
  {
   "cell_type": "code",
   "execution_count": 25,
   "metadata": {},
   "outputs": [
    {
     "name": "stdout",
     "output_type": "stream",
     "text": [
      "model trained.saving model..\n",
      "model saved\n"
     ]
    }
   ],
   "source": [
    "import pickle\n",
    "print(\"model trained.saving model..\")\n",
    "filename = './model23.pkl'\n",
    "pickle.dump(decomposed_matrix, open(filename, 'wb'))\n",
    "print(\"model saved\")"
   ]
  },
  {
   "cell_type": "code",
   "execution_count": 26,
   "metadata": {},
   "outputs": [
    {
     "name": "stdout",
     "output_type": "stream",
     "text": [
      "Loading model\n"
     ]
    }
   ],
   "source": [
    "import pickle\n",
    "print(\"Loading model\")\n",
    "filename = './model23.pkl'\n",
    "model = pickle.load(open(filename, 'rb'))\n"
   ]
  },
  {
   "cell_type": "markdown",
   "metadata": {},
   "source": [
    "### Correlation Matrix"
   ]
  },
  {
   "cell_type": "code",
   "execution_count": 13,
   "metadata": {},
   "outputs": [
    {
     "data": {
      "text/plain": [
       "(886, 886)"
      ]
     },
     "execution_count": 13,
     "metadata": {},
     "output_type": "execute_result"
    }
   ],
   "source": [
    "correlation_matrix = np.corrcoef(decomposed_matrix)\n",
    "correlation_matrix.shape"
   ]
  },
  {
   "cell_type": "markdown",
   "metadata": {},
   "source": [
    "correlation_matrix"
   ]
  },
  {
   "cell_type": "markdown",
   "metadata": {},
   "source": [
    "### Isolating Product ID # 6117036094 from the Correlation Matrix\n",
    "\n",
    "Assuming the customer buys Product ID # 6117036094 (randomly chosen)"
   ]
  },
  {
   "cell_type": "code",
   "execution_count": 14,
   "metadata": {
    "scrolled": true
   },
   "outputs": [
    {
     "data": {
      "text/plain": [
       "'6117036094'"
      ]
     },
     "execution_count": 14,
     "metadata": {},
     "output_type": "execute_result"
    }
   ],
   "source": [
    "X.index[99]"
   ]
  },
  {
   "cell_type": "code",
   "execution_count": null,
   "metadata": {},
   "outputs": [],
   "source": []
  },
  {
   "cell_type": "markdown",
   "metadata": {},
   "source": [
    "Index # of product ID purchased by customer"
   ]
  },
  {
   "cell_type": "code",
   "execution_count": 15,
   "metadata": {},
   "outputs": [
    {
     "data": {
      "text/plain": [
       "99"
      ]
     },
     "execution_count": 15,
     "metadata": {},
     "output_type": "execute_result"
    }
   ],
   "source": [
    "i = \"6117036094\"\n",
    "\n",
    "product_names = list(X.index)\n",
    "product_ID = product_names.index(i)\n",
    "product_ID"
   ]
  },
  {
   "cell_type": "markdown",
   "metadata": {},
   "source": [
    "Correlation for all items with the item purchased by this customer based on items rated by other customers people who bought the same product"
   ]
  },
  {
   "cell_type": "code",
   "execution_count": 16,
   "metadata": {},
   "outputs": [
    {
     "data": {
      "text/plain": [
       "(886,)"
      ]
     },
     "execution_count": 16,
     "metadata": {},
     "output_type": "execute_result"
    }
   ],
   "source": [
    "correlation_product_ID = correlation_matrix[product_ID]\n",
    "correlation_product_ID.shape"
   ]
  },
  {
   "cell_type": "markdown",
   "metadata": {},
   "source": [
    "### Recommending top 10 highly correlated products in sequence"
   ]
  },
  {
   "cell_type": "code",
   "execution_count": 17,
   "metadata": {},
   "outputs": [
    {
     "data": {
      "text/plain": [
       "['0205616461',\n",
       " '1304146537',\n",
       " '1304168522',\n",
       " '1304351475',\n",
       " '1304482596',\n",
       " '1304488608',\n",
       " '1304495396',\n",
       " '1304511073',\n",
       " '1304511081']"
      ]
     },
     "execution_count": 17,
     "metadata": {},
     "output_type": "execute_result"
    }
   ],
   "source": [
    "Recommend = list(X.index[correlation_product_ID > 0.90])\n",
    "\n",
    "# Removes the item already bought by the customer\n",
    "Recommend.remove(i) \n",
    "\n",
    "Recommend[0:9]"
   ]
  },
  {
   "cell_type": "code",
   "execution_count": 42,
   "metadata": {},
   "outputs": [],
   "source": [
    "l=[]\n",
    "for i in range(len(X.index)):\n",
    "    l.append(X.index[i])"
   ]
  },
  {
   "cell_type": "code",
   "execution_count": 47,
   "metadata": {},
   "outputs": [
    {
     "data": {
      "text/plain": [
       "99"
      ]
     },
     "execution_count": 47,
     "metadata": {},
     "output_type": "execute_result"
    }
   ],
   "source": [
    "product_ID"
   ]
  },
  {
   "cell_type": "code",
   "execution_count": 65,
   "metadata": {},
   "outputs": [
    {
     "data": {
      "text/plain": [
       "array([-0.06221456, -0.03299528,  0.29644143, -0.54787359,  0.23304435,\n",
       "       -0.54192848, -0.17012112,  0.25586559, -0.54182421,  0.19019763,\n",
       "       -0.17012113,  0.18936782, -0.14691446, -0.54627476, -0.54192848,\n",
       "       -0.17012113, -0.17012113, -0.26236833, -0.14690788,  0.29722992,\n",
       "        0.18213902, -0.18808876, -0.08834396,  0.18921724,  0.1828102 ,\n",
       "        0.33447614,  0.33864052, -0.36758108,  0.18921724,  0.32478782,\n",
       "        0.32128005, -0.54202246,  0.07739998,  0.33423809,  0.18934072,\n",
       "       -0.54192848,  0.33423809, -0.06704846, -0.54171446, -0.3984565 ,\n",
       "       -0.39742789,  0.33447614, -0.54246897, -0.54192848, -0.54192848,\n",
       "       -0.54192848,  0.18921724, -0.54192848, -0.54184705, -0.3984565 ,\n",
       "       -0.44099195, -0.17229448, -0.03658046, -0.33290086,  0.08021295,\n",
       "       -0.27982783,  0.6756894 , -0.09887786,  0.82588012,  0.38284362,\n",
       "        0.35493941, -0.12869522,  0.13075313,  0.15885668,  0.21834559,\n",
       "        0.86864307,  0.24935297, -0.66232915,  0.47397361,  0.60648153,\n",
       "       -0.41638218,  0.11519156,  0.60740342,  0.75847965, -0.33953668,\n",
       "        0.68227386,  0.2223584 ,  0.28175967, -0.34249516,  0.22448238,\n",
       "        0.19707934,  0.02855499,  0.42242694,  0.29799757, -0.28324412,\n",
       "       -0.04234726, -0.27663556, -0.22912647,  0.11362617,  0.44052927,\n",
       "        0.49270945, -0.05324785,  0.40467532,  0.59121608, -0.07993925,\n",
       "       -0.03092741, -0.03822541, -0.03667052,  0.3133553 ,  1.        ,\n",
       "       -0.24244778,  0.25221421, -0.38364771,  0.96533712,  0.28199822,\n",
       "        0.20770084,  0.10527135,  0.21242523, -0.24374778, -0.13155327,\n",
       "        0.73448343,  0.10513838,  0.04964194, -0.0066539 , -0.11012914,\n",
       "        0.21084395,  0.25408084, -0.29091683,  0.24022317,  0.17520377,\n",
       "        0.32468277,  0.30822402, -0.22665177,  0.19475464,  0.59376435,\n",
       "       -0.21776975,  0.02974102,  0.26834799,  0.32697062,  0.46299764,\n",
       "       -0.05318691,  0.3062808 ,  0.24248128,  0.14590675, -0.70032417,\n",
       "       -0.5561495 , -0.71026795,  0.42897334,  0.21885503, -0.26414763,\n",
       "       -0.45692692,  0.06494083, -0.23802232, -0.39054898, -0.25997132,\n",
       "       -0.78149101, -0.21307597, -0.43803339, -0.28112044,  0.46902459,\n",
       "       -0.30805989,  0.1562262 , -0.34579161,  0.70960168, -0.05735295,\n",
       "       -0.29619712, -0.26249565, -0.25821529,  0.62254509, -0.38006618,\n",
       "       -0.49242632, -0.22950245,  0.36050906, -0.24281941,  0.29565295,\n",
       "        0.78759119,  0.38378037, -0.23742164, -0.40942673,  0.26995149,\n",
       "       -0.38036104,  0.75243489, -0.2451885 , -0.22378976,  0.19806392,\n",
       "        0.22999576, -0.3346815 ,  0.34332894,  0.33844688, -0.48998246,\n",
       "       -0.1841028 , -0.44906884,  0.10314163,  0.06169517, -0.5918979 ,\n",
       "       -0.00430641, -0.17455564, -0.07695995, -0.18806858,  0.03263321,\n",
       "        0.29980825, -0.34346409,  0.25961115,  0.35881568,  0.00939102,\n",
       "       -0.35473324,  0.31776545,  0.36023612, -0.37685033, -0.6635312 ,\n",
       "       -0.11939656, -0.59189787, -0.17690802, -0.13911331,  0.60370255,\n",
       "       -0.14634205, -0.38122252,  0.37134524,  0.25395824, -0.07813881,\n",
       "        0.07982723,  0.20405635,  0.12909144,  0.63156336, -0.26790591,\n",
       "       -0.3970629 ,  0.25903496,  0.01899223,  0.33311149, -0.23171806,\n",
       "       -0.28686828, -0.11423343, -0.10463491,  0.44537523, -0.1998903 ,\n",
       "       -0.24922365, -0.24347952,  0.37053479, -0.38623429,  0.0823963 ,\n",
       "        0.30642338, -0.16738101,  0.19806164,  0.10703425, -0.16218332,\n",
       "       -0.83434851, -0.03904811, -0.19990376, -0.32786481,  0.3226473 ,\n",
       "       -0.31396107,  0.95580457,  0.22513265, -0.20223256, -0.28173555,\n",
       "        0.06022389,  0.47332331, -0.48321816,  0.30723424, -0.43425917,\n",
       "        0.23693679, -0.212208  , -0.23083122, -0.01294199,  0.6160061 ,\n",
       "        0.3208112 ,  0.31635854,  0.09999009, -0.26619268,  0.23931909,\n",
       "        0.46519761,  0.30833896, -0.45761742,  0.7232306 , -0.09511257,\n",
       "        0.2799389 , -0.32926127, -0.27259988, -0.33122783,  0.26024615,\n",
       "       -0.18128833,  0.42427871, -0.281343  , -0.25874317, -0.5469543 ,\n",
       "        0.24543581,  0.64023254, -0.90077595, -0.3866886 ,  0.49354076,\n",
       "        0.24475885, -0.3294749 ,  0.14793704,  0.26495973,  0.34037388,\n",
       "       -0.45388411,  0.33004203,  0.06677369, -0.04503033,  0.22287956,\n",
       "       -0.47771913,  0.34745917,  0.28780615,  0.2471592 ,  0.13250019,\n",
       "        0.22573271,  0.59404705, -0.27015734,  0.44410344, -0.21749162,\n",
       "        0.25000519,  0.79583774,  0.1614373 , -0.81070998,  0.31259574,\n",
       "       -0.20673136,  0.05624685,  0.31083777,  0.25997287, -0.6472433 ,\n",
       "       -0.11660836,  0.13080761,  0.18379848, -0.45898686, -0.16157269,\n",
       "        0.44966298,  0.30113495,  0.66525619, -0.41986196, -0.26411568,\n",
       "        0.1550732 ,  0.21491432, -0.2251224 , -0.21746682, -0.28286524,\n",
       "       -0.12808436,  0.21484595, -0.23802155,  0.28968014,  0.41041581,\n",
       "        0.5014108 ,  0.25182109, -0.09234578, -0.31366996,  0.17801882,\n",
       "        0.34582425, -0.29238671,  0.49850058, -0.29671274,  0.42898724,\n",
       "       -0.3355069 ,  0.24401368, -0.40019257,  0.45329533,  0.44474394,\n",
       "        0.07056887, -0.45860037,  0.80444109, -0.65535164, -0.09919219,\n",
       "       -0.28337711, -0.19280877,  0.02290473, -0.22051549, -0.23543503,\n",
       "        0.27142201,  0.04259607,  0.31359699,  0.33571656,  0.8509445 ,\n",
       "        0.32207599, -0.57761132,  0.35520436,  0.29542667,  0.30125174,\n",
       "        0.19333906, -0.3735966 ,  0.40749069,  0.30742155, -0.07968258,\n",
       "        0.64349965,  0.26457722, -0.27624725, -0.05132454, -0.22723698,\n",
       "       -0.3442403 ,  0.09343342, -0.29370648, -0.18817076, -0.16311153,\n",
       "        0.17230749, -0.23649044,  0.77131478,  0.29199678, -0.12815908,\n",
       "        0.40949661,  0.05563091,  0.43321269, -0.31970796, -0.05215829,\n",
       "       -0.29671479,  0.23200004,  0.25568627, -0.26260481, -0.32926127,\n",
       "       -0.12785661,  0.00498303, -0.54727479,  0.32660503,  0.68400998,\n",
       "        0.24139663,  0.05013383, -0.0983646 ,  0.05239542, -0.37613489,\n",
       "       -0.3636273 ,  0.26226573,  0.53552753,  0.14515356,  0.25016243,\n",
       "       -0.12461184, -0.14401548, -0.36665769, -0.00630378,  0.19647497,\n",
       "       -0.36665769, -0.19527638,  0.01411911,  0.36340608,  0.14502726,\n",
       "       -0.28365449,  0.33091421,  0.36044776,  0.23841508, -0.25074604,\n",
       "       -0.53646297,  0.62634323, -0.70545358,  0.02573743, -0.1492607 ,\n",
       "       -0.14684033,  0.28459152, -0.07978584,  0.33579293,  0.60071146,\n",
       "       -0.30140036, -0.35858355,  0.41405956, -0.4853682 ,  0.92701993,\n",
       "       -0.97826526,  0.03457672,  0.31921532,  0.45125973, -0.26322667,\n",
       "       -0.34937588, -0.04167343,  0.88913372,  0.66392065,  0.38285016,\n",
       "        0.63197896,  0.27316962,  0.47976167, -0.40631509,  0.47525787,\n",
       "        0.11473333,  0.60037214,  0.70287678, -0.21889543,  0.49402936,\n",
       "        0.17918951,  0.19044411,  0.08515517, -0.65586232,  0.38934716,\n",
       "       -0.70087289, -0.17596071, -0.25875143, -0.41316931, -0.42273307,\n",
       "       -0.60915813,  0.54895924, -0.27566922,  0.45005445, -0.14104196,\n",
       "        0.66318501, -0.49871625,  0.15629403, -0.02099304,  0.08020791,\n",
       "        0.06740206,  0.68649897, -0.15246677,  0.20879886,  0.63381735,\n",
       "       -0.07611398, -0.35532789, -0.48973739, -0.25466923, -0.27705513,\n",
       "        0.30666437, -0.35099596,  0.49931872, -0.3154025 , -0.28980632,\n",
       "       -0.63948079, -0.3891566 , -0.46506416, -0.09654242,  0.36026647,\n",
       "       -0.0802519 , -0.31670429,  0.23681503, -0.09609041, -0.3066001 ,\n",
       "        0.08541596,  0.08395714,  0.23655062,  0.32485947, -0.17260887,\n",
       "       -0.51290671,  0.18778035,  0.33222957, -0.18111186, -0.40433153,\n",
       "       -0.21962407,  0.32052458,  0.43179945,  0.37753308,  0.33717023,\n",
       "        0.36911105,  0.51864523,  0.30340411,  0.23667054,  0.21949272,\n",
       "       -0.25461761,  0.43955137, -0.41710678,  0.27972516,  0.30717022,\n",
       "       -0.06321656, -0.14976042,  0.35697121, -0.66333203, -0.50090122,\n",
       "        0.16614867,  0.24282943, -0.32402841,  0.2929086 , -0.34178948,\n",
       "       -0.18937588,  0.22168977,  0.27989432,  0.26110313, -0.39536799,\n",
       "       -0.37713134, -0.24250144,  0.02274328,  0.06948315,  0.37534958,\n",
       "       -0.13446406,  0.48408647, -0.52051919,  0.23179444, -0.2773337 ,\n",
       "        0.09851165,  0.5228431 ,  0.31972517, -0.42513184, -0.25260757,\n",
       "       -0.30301345,  0.13077328,  0.73679725,  0.24941062, -0.15023804,\n",
       "       -0.29809414, -0.28250315, -0.33836483, -0.14770502, -0.75343289,\n",
       "        0.31413186, -0.21212796,  0.1910059 ,  0.25090189, -0.52761405,\n",
       "        0.01604426,  0.39699596,  0.07932009,  0.58497106, -0.21134283,\n",
       "        0.16079867,  0.02532798,  0.31115628, -0.26834754,  0.04399531,\n",
       "       -0.21011763,  0.40043025,  0.25882143, -0.23892147,  0.08658232,\n",
       "       -0.22094114,  0.66390661, -0.28622588,  0.35329111,  0.18298075,\n",
       "       -0.03176742,  0.35647518, -0.03365099, -0.23731147, -0.15283848,\n",
       "        0.27643655, -0.74700824, -0.12674216,  0.37374207, -0.3207975 ,\n",
       "       -0.48996351,  0.35689855, -0.28465427, -0.39996642,  0.29242822,\n",
       "        0.26897157,  0.73798502, -0.61897105, -0.45637574, -0.60096819,\n",
       "       -0.31887982,  0.39300677, -0.262362  ,  0.5684414 ,  0.57272898,\n",
       "       -0.14472383,  0.83719712,  0.29659647, -0.2923688 ,  0.00745654,\n",
       "       -0.04205345, -0.03319199, -0.02892909,  0.24206213,  0.3181338 ,\n",
       "       -0.12206281,  0.25149459,  0.30410847, -0.29502463,  0.413002  ,\n",
       "        0.31171805,  0.32436473, -0.38989898,  0.13099897, -0.19947052,\n",
       "       -0.17958504,  0.26973567, -0.09371793, -0.09394247,  0.34981947,\n",
       "        0.63839201,  0.32351261,  0.49943946, -0.2394375 , -0.04026173,\n",
       "       -0.1383238 , -0.22283912, -0.077472  ,  0.04495055,  0.13466466,\n",
       "        0.2970175 , -0.29329751, -0.33923107,  0.1986697 , -0.04330363,\n",
       "       -0.18146603,  0.33109823,  0.16586331, -0.11926242, -0.28484553,\n",
       "       -0.47533761, -0.33923032, -0.05156694,  0.25399891, -0.04195941,\n",
       "        0.06647222, -0.21294095,  0.06564149,  0.25745865,  0.26014405,\n",
       "        0.26089503,  0.31503989, -0.30596358,  0.32672636, -0.31239044,\n",
       "        0.31129413,  0.34891877, -0.11926242,  0.15705632,  0.60900877,\n",
       "        0.56087516, -0.07285719,  0.51248622,  0.98347185, -0.54937666,\n",
       "       -0.22286565, -0.29333543, -0.55340358, -0.64184511, -0.02638027,\n",
       "        0.27825477, -0.34057901,  0.22239536,  0.17026152, -0.48078335,\n",
       "        0.30610097,  0.06929979,  0.02076038, -0.15648349,  0.07233785,\n",
       "        0.18875623, -0.35796762, -0.04746141,  0.12492339,  0.18324389,\n",
       "       -0.1352335 ,  0.10397057, -0.45153292, -0.05789099, -0.25019043,\n",
       "        0.18155509, -0.63026777,  0.22263884,  0.37418696,  0.0298249 ,\n",
       "       -0.16759798, -0.41275505,  0.23553981, -0.16527088,  0.05288382,\n",
       "       -0.16921492, -0.08647499, -0.25894881, -0.14865595, -0.29688635,\n",
       "       -0.35473324,  0.008006  , -0.20475074,  0.10689482, -0.09798116,\n",
       "       -0.52113175,  0.50033971, -0.20208711,  0.28670914, -0.20667026,\n",
       "        0.40137968, -0.27897841, -0.17793284,  0.35036018,  0.53248086,\n",
       "        0.19188879, -0.05424482, -0.05480643, -0.20795638, -0.20795726,\n",
       "        0.1930452 , -0.15407489, -0.15406692,  0.13473495, -0.05728234,\n",
       "        0.58031088, -0.0614083 ,  0.62983626,  0.17847485, -0.56039289,\n",
       "        0.52614642, -0.25857663, -0.10819855,  0.23296832,  0.08394149,\n",
       "       -0.39913248, -0.24956165, -0.19123187, -0.20950302,  0.81013791,\n",
       "        0.24433426,  0.02970337, -0.32561256,  0.38811441, -0.06197879,\n",
       "        0.61536932, -0.05783348,  0.31694355, -0.67882476,  0.29190058,\n",
       "        0.01497365, -0.2075411 ,  0.15270875, -0.5738284 , -0.69434897,\n",
       "       -0.54489879, -0.23502448, -0.59023166, -0.65257393, -0.16483659,\n",
       "        0.07212263,  0.66879477, -0.21886243,  0.89750007, -0.45449578,\n",
       "       -0.15452222,  0.26158158,  0.273564  ,  0.06351298, -0.44865524,\n",
       "        0.10753837, -0.07986972, -0.07800477, -0.29725893, -0.66836993,\n",
       "       -0.0766654 , -0.07648041,  0.25019728, -0.24380231, -0.34314146,\n",
       "        0.52377764,  0.12197371, -0.04467891, -0.16847851,  0.20064156,\n",
       "        0.12507607, -0.65998323, -0.72135642, -0.25330285, -0.28935584,\n",
       "       -0.09391296, -0.0140286 ,  0.08553708, -0.13540293, -0.59501294,\n",
       "       -0.45128625,  0.35594593, -0.67854071,  0.10243554, -0.18694023,\n",
       "       -0.65814387,  0.08807428, -0.15680513, -0.22329866,  0.06091699,\n",
       "       -0.07974524, -0.81546271, -0.01697059,  0.45223358,  0.72768369,\n",
       "       -0.03693   ,  0.77370221,  0.06189487,  0.06330582, -0.1593332 ,\n",
       "        0.33945946,  0.25657344,  0.0478582 , -0.44843999,  0.0795498 ,\n",
       "        0.32212091, -0.42910974,  0.06363004,  0.11137945,  0.26707401,\n",
       "        0.30087928, -0.30206909, -0.18283242,  0.77803813,  0.29048656,\n",
       "        0.14746597, -0.66871302, -0.66842143, -0.4122211 , -0.24416609,\n",
       "       -0.6694229 ,  0.52728257, -0.20389493, -0.33135023,  0.11432358,\n",
       "        0.30705576, -0.25096824,  0.20491785,  0.02906914, -0.10026641,\n",
       "        0.23449785, -0.45433896,  0.66062527,  0.38577541,  0.32816366,\n",
       "       -0.27781188,  0.45890897,  0.18880154,  0.08112279, -0.12866676,\n",
       "       -0.75717905])"
      ]
     },
     "execution_count": 65,
     "metadata": {},
     "output_type": "execute_result"
    }
   ],
   "source": [
    "correlation_product_ID\n"
   ]
  },
  {
   "cell_type": "code",
   "execution_count": 74,
   "metadata": {},
   "outputs": [
    {
     "data": {
      "text/plain": [
       "['6162751473',\n",
       " '9788075509',\n",
       " '9790785682',\n",
       " 'B000027S8A',\n",
       " '6162751473',\n",
       " '9788075509',\n",
       " '9790785682',\n",
       " 'B000027S8A',\n",
       " '6162751473']"
      ]
     },
     "execution_count": 74,
     "metadata": {},
     "output_type": "execute_result"
    }
   ],
   "source": [
    "\n",
    "correlation_matrix = np.corrcoef(model)\n",
    "\n",
    "i = \"6117036094\"\n",
    "\n",
    "product_names = list(l)\n",
    "product_ID = product_names.index(i)\n",
    "\n",
    "\n",
    "correlation_product_ID = correlation_matrix[product_ID]\n",
    "\n",
    "#Recommend = list(l(str([correlation_product_ID > 0.90])))\n",
    "Recommend=[]\n",
    "for k in range(len(l)):\n",
    "    if(correlation_product_ID[k] > 0.90):\n",
    "        Recommend.append(l[k])\n",
    "\n",
    "Recommend.remove(i) \n",
    "\n",
    "Recommend[0:9]"
   ]
  },
  {
   "cell_type": "code",
   "execution_count": null,
   "metadata": {},
   "outputs": [],
   "source": []
  }
 ],
 "metadata": {
  "kernelspec": {
   "display_name": "Python 3",
   "language": "python",
   "name": "python3"
  },
  "language_info": {
   "codemirror_mode": {
    "name": "ipython",
    "version": 3
   },
   "file_extension": ".py",
   "mimetype": "text/x-python",
   "name": "python",
   "nbconvert_exporter": "python",
   "pygments_lexer": "ipython3",
   "version": "3.7.1"
  }
 },
 "nbformat": 4,
 "nbformat_minor": 4
}
