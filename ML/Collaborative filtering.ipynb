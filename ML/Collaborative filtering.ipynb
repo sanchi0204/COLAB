{
 "cells": [
  {
   "cell_type": "code",
   "execution_count": 1,
   "metadata": {
    "_cell_guid": "b1076dfc-b9ad-4769-8c92-a6c4dae69d19",
    "_uuid": "8f2839f25d086af736a60e9eeb907d3b93b6e0e5"
   },
   "outputs": [
    {
     "name": "stderr",
     "output_type": "stream",
     "text": [
      "C:\\Users\\LENOVO\\Anaconda3\\lib\\site-packages\\sklearn\\externals\\joblib\\__init__.py:15: DeprecationWarning: sklearn.externals.joblib is deprecated in 0.21 and will be removed in 0.23. Please import this functionality directly from joblib, which can be installed with: pip install joblib. If this warning is raised when loading pickled models, you may need to re-serialize those models with scikit-learn 0.21+.\n",
      "  warnings.warn(msg, category=DeprecationWarning)\n"
     ]
    }
   ],
   "source": [
    "import numpy as np \n",
    "import pandas as pd \n",
    "import os\n",
    "import math\n",
    "import json\n",
    "import matplotlib.pyplot as plt\n",
    "import seaborn as sns\n",
    "from sklearn.metrics.pairwise import cosine_similarity\n",
    "from sklearn.model_selection import train_test_split\n",
    "from sklearn.neighbors import NearestNeighbors\n",
    "from sklearn.externals import joblib\n",
    "import scipy.sparse\n",
    "from scipy.sparse import csr_matrix\n",
    "from scipy.sparse.linalg import svds\n",
    "%matplotlib inline\n"
   ]
  },
  {
   "cell_type": "code",
   "execution_count": 2,
   "metadata": {},
   "outputs": [],
   "source": [
    "amazon_review=pd.read_csv(\"Clothing_Shoes_and_Jewelry.csv\",names=['userId', 'productId','Rating','timestamp'])\n"
   ]
  },
  {
   "cell_type": "code",
   "execution_count": 3,
   "metadata": {},
   "outputs": [
    {
     "data": {
      "text/html": [
       "<div>\n",
       "<style scoped>\n",
       "    .dataframe tbody tr th:only-of-type {\n",
       "        vertical-align: middle;\n",
       "    }\n",
       "\n",
       "    .dataframe tbody tr th {\n",
       "        vertical-align: top;\n",
       "    }\n",
       "\n",
       "    .dataframe thead th {\n",
       "        text-align: right;\n",
       "    }\n",
       "</style>\n",
       "<table border=\"1\" class=\"dataframe\">\n",
       "  <thead>\n",
       "    <tr style=\"text-align: right;\">\n",
       "      <th></th>\n",
       "      <th>userId</th>\n",
       "      <th>productId</th>\n",
       "      <th>Rating</th>\n",
       "      <th>timestamp</th>\n",
       "    </tr>\n",
       "  </thead>\n",
       "  <tbody>\n",
       "    <tr>\n",
       "      <th>0</th>\n",
       "      <td>0871167042</td>\n",
       "      <td>A2IC3NZN488KWK</td>\n",
       "      <td>5.0</td>\n",
       "      <td>1399161600</td>\n",
       "    </tr>\n",
       "    <tr>\n",
       "      <th>1</th>\n",
       "      <td>0871167042</td>\n",
       "      <td>A3OT9BYASFGU2X</td>\n",
       "      <td>4.0</td>\n",
       "      <td>1398470400</td>\n",
       "    </tr>\n",
       "    <tr>\n",
       "      <th>2</th>\n",
       "      <td>0871167042</td>\n",
       "      <td>A28GK1G2KDXHRP</td>\n",
       "      <td>5.0</td>\n",
       "      <td>1397692800</td>\n",
       "    </tr>\n",
       "    <tr>\n",
       "      <th>3</th>\n",
       "      <td>0871167042</td>\n",
       "      <td>A3NFXFEKW8OK0E</td>\n",
       "      <td>5.0</td>\n",
       "      <td>1397606400</td>\n",
       "    </tr>\n",
       "    <tr>\n",
       "      <th>4</th>\n",
       "      <td>0871167042</td>\n",
       "      <td>A3I6G5TKBVJEK9</td>\n",
       "      <td>5.0</td>\n",
       "      <td>1397520000</td>\n",
       "    </tr>\n",
       "  </tbody>\n",
       "</table>\n",
       "</div>"
      ],
      "text/plain": [
       "       userId       productId  Rating   timestamp\n",
       "0  0871167042  A2IC3NZN488KWK     5.0  1399161600\n",
       "1  0871167042  A3OT9BYASFGU2X     4.0  1398470400\n",
       "2  0871167042  A28GK1G2KDXHRP     5.0  1397692800\n",
       "3  0871167042  A3NFXFEKW8OK0E     5.0  1397606400\n",
       "4  0871167042  A3I6G5TKBVJEK9     5.0  1397520000"
      ]
     },
     "execution_count": 3,
     "metadata": {},
     "output_type": "execute_result"
    }
   ],
   "source": [
    "\n",
    "amazon_review.head()\n"
   ]
  },
  {
   "cell_type": "code",
   "execution_count": 4,
   "metadata": {},
   "outputs": [
    {
     "data": {
      "text/plain": [
       "(32292099, 4)"
      ]
     },
     "execution_count": 4,
     "metadata": {},
     "output_type": "execute_result"
    }
   ],
   "source": [
    "amazon_review.shape"
   ]
  },
  {
   "cell_type": "markdown",
   "metadata": {},
   "source": [
    "# Collaberative filtering (Item-Item recommedation)\n",
    "\n",
    "\n",
    "\n"
   ]
  },
  {
   "cell_type": "code",
   "execution_count": 50,
   "metadata": {},
   "outputs": [],
   "source": [
    "from surprise import SVD,  SlopeOne\n",
    "from surprise import KNNBaseline, KNNBasic, KNNWithMeans, KNNWithZScore\n",
    "\n",
    "from surprise import Dataset\n",
    "from surprise import accuracy\n",
    "from surprise import Reader\n",
    "import os\n",
    "from surprise.model_selection import train_test_split"
   ]
  },
  {
   "cell_type": "code",
   "execution_count": 51,
   "metadata": {},
   "outputs": [],
   "source": [
    "reader = Reader(rating_scale=(1, 5))\n",
    "data = Dataset.load_from_df(new_df,reader)"
   ]
  },
  {
   "cell_type": "code",
   "execution_count": 52,
   "metadata": {},
   "outputs": [],
   "source": [
    "trainset, testset = train_test_split(data, test_size=0.3,random_state=10)"
   ]
  },
  {
   "cell_type": "code",
   "execution_count": 53,
   "metadata": {},
   "outputs": [],
   "source": [
    "bsl_options = {'method': 'als', 'n_epochs': 5, 'reg_u': 12, 'reg_i': 5 }\n",
    "sim_options={'name': 'pearson_baseline', 'user_based': False}"
   ]
  },
  {
   "cell_type": "code",
   "execution_count": 54,
   "metadata": {},
   "outputs": [
    {
     "name": "stdout",
     "output_type": "stream",
     "text": [
      "Estimating biases using als...\n",
      "Computing the pearson_baseline similarity matrix...\n",
      "Done computing similarity matrix.\n",
      "RMSE: 0.8644\n"
     ]
    }
   ],
   "source": [
    "algo_KNNWithMeans = KNNWithMeans(k=5,sim_options = sim_options , bsl_options = bsl_options)\n",
    "predictions_KNNWithMeans = algo_KNNWithMeans.fit(trainset).test(testset)\n",
    "rmse_KNNWithMeans = accuracy.rmse(predictions_KNNWithMeans)"
   ]
  },
  {
   "cell_type": "code",
   "execution_count": 55,
   "metadata": {},
   "outputs": [
    {
     "name": "stdout",
     "output_type": "stream",
     "text": [
      "Estimating biases using als...\n",
      "Computing the pearson_baseline similarity matrix...\n",
      "Done computing similarity matrix.\n",
      "RMSE: 0.9454\n"
     ]
    }
   ],
   "source": [
    "algo_KNNBasic = KNNBasic(k=5,sim_options = sim_options , bsl_options = bsl_options)\n",
    "predictions_KNNBasic = algo_KNNBasic.fit(trainset).test(testset)\n",
    "rmse_KNNBasic = accuracy.rmse(predictions_KNNBasic)"
   ]
  },
  {
   "cell_type": "code",
   "execution_count": 56,
   "metadata": {},
   "outputs": [
    {
     "name": "stdout",
     "output_type": "stream",
     "text": [
      "Estimating biases using als...\n",
      "Computing the pearson_baseline similarity matrix...\n",
      "Done computing similarity matrix.\n",
      "RMSE: 0.8652\n"
     ]
    }
   ],
   "source": [
    "algo_KNNWithZScore = KNNWithZScore(k=5,sim_options = sim_options , bsl_options = bsl_options)\n",
    "predictions_KNNWithZScore = algo_KNNWithZScore.fit(trainset).test(testset)\n",
    "rmse_KNNWithZScore = accuracy.rmse(predictions_KNNWithZScore)"
   ]
  },
  {
   "cell_type": "code",
   "execution_count": 57,
   "metadata": {},
   "outputs": [
    {
     "name": "stdout",
     "output_type": "stream",
     "text": [
      "Estimating biases using als...\n",
      "Computing the pearson_baseline similarity matrix...\n",
      "Done computing similarity matrix.\n",
      "RMSE: 0.8341\n"
     ]
    }
   ],
   "source": [
    "algo_KNNBaseline = KNNBaseline(k=5,sim_options = sim_options , bsl_options = bsl_options)\n",
    "predictions_KNNBaseline = algo_KNNBaseline.fit(trainset).test(testset)\n",
    "rmse_KNNBaseline = accuracy.rmse(predictions_KNNBaseline)"
   ]
  },
  {
   "cell_type": "code",
   "execution_count": 58,
   "metadata": {},
   "outputs": [
    {
     "name": "stdout",
     "output_type": "stream",
     "text": [
      "RMSE: 0.8676\n"
     ]
    }
   ],
   "source": [
    "\n",
    "from surprise import SVD\n",
    "\n",
    "algo_SVD = SVD()\n",
    "predictions_SVD = algo_SVD.fit(trainset).test(testset)\n",
    "rmse_SVD = accuracy.rmse(predictions_SVD)"
   ]
  },
  {
   "cell_type": "code",
   "execution_count": 73,
   "metadata": {},
   "outputs": [
    {
     "name": "stdout",
     "output_type": "stream",
     "text": [
      "RMSE: 0.9014\n"
     ]
    }
   ],
   "source": [
    "\n",
    "from surprise import  SlopeOne\n",
    "\n",
    "algo_SlopeOne = SlopeOne()\n",
    "predictions_SlopeOne = algo_SlopeOne.fit(trainset).test(testset)\n",
    "rmse_SlopeOne = accuracy.rmse(predictions_SlopeOne)"
   ]
  },
  {
   "cell_type": "markdown",
   "metadata": {},
   "source": [
    "# Comparing RMSE for Modles\n"
   ]
  },
  {
   "cell_type": "code",
   "execution_count": 60,
   "metadata": {},
   "outputs": [
    {
     "name": "stdout",
     "output_type": "stream",
     "text": [
      "Item-based Model : Test Set\n",
      "KNNBasic Model 0.9453698710134093\n",
      "KNNWithMeans Model 0.8643561702795824\n",
      "KNNWithZScore Model 0.8651685350683738\n",
      "KNNBaseline Model 0.8340791990344769\n",
      "Model-based Model : Test Set\n",
      "SVD Model 0.8676244584416983\n",
      "SlopeOne Model 0.9014195259289066\n"
     ]
    }
   ],
   "source": [
    "print(\"Item-based Model : Test Set\")\n",
    "print(\"KNNBasic Model\" , rmse_KNNBasic)\n",
    "print(\"KNNWithMeans Model\" , rmse_KNNWithMeans)\n",
    "print(\"KNNWithZScore Model\" , rmse_KNNWithZScore)\n",
    "print(\"KNNBaseline Model\" , rmse_KNNBaseline)\n",
    "print(\"Model-based Model : Test Set\")\n",
    "print(\"SVD Model\" , rmse_SVD)\n",
    "print(\"SlopeOne Model\" , rmse_SlopeOne)\n",
    "\n"
   ]
  },
  {
   "cell_type": "code",
   "execution_count": 61,
   "metadata": {},
   "outputs": [
    {
     "data": {
      "text/plain": [
       "['B00006XXGO',\n",
       " 'B000072UMN',\n",
       " 'B000072US4',\n",
       " 'B00007GDAL',\n",
       " 'B00007GDG5',\n",
       " 'B00007IZHM',\n",
       " 'B0000868IP',\n",
       " 'B0000891KM',\n",
       " 'B0000891JE',\n",
       " 'B0000891IO']"
      ]
     },
     "execution_count": 61,
     "metadata": {},
     "output_type": "execute_result"
    },
    {
     "data": {
      "text/plain": [
       "['AI3AT6EUCEBIS',\n",
       " 'A1BKO977F72Y6F',\n",
       " 'AW32UTX2OY38I',\n",
       " 'A9DW3IODLLHJG',\n",
       " 'A7SBWPBRLILX0',\n",
       " 'A17AK1Z8KN613L',\n",
       " 'A1UT1Q85F0105C',\n",
       " 'A1GUV5FIQP1Z2Y',\n",
       " 'A3FJ6M5OT3FLZE',\n",
       " 'A2ZR1J2JC81B3B']"
      ]
     },
     "execution_count": 61,
     "metadata": {},
     "output_type": "execute_result"
    }
   ],
   "source": [
    "all_user_ids = list(new_df['userId'].unique())\n",
    "\n",
    "all_user_ids[:10]\n",
    "\n",
    "all_products = list(new_df['productId'].unique())\n",
    "\n",
    "all_products[:10]"
   ]
  },
  {
   "cell_type": "code",
   "execution_count": 62,
   "metadata": {},
   "outputs": [
    {
     "data": {
      "text/plain": [
       "549"
      ]
     },
     "execution_count": 62,
     "metadata": {},
     "output_type": "execute_result"
    }
   ],
   "source": [
    "len(all_user_ids)"
   ]
  },
  {
   "cell_type": "code",
   "execution_count": 63,
   "metadata": {},
   "outputs": [],
   "source": [
    "user_index = 11\n",
    "\n",
    "uid = all_user_ids[user_index]\n"
   ]
  },
  {
   "cell_type": "code",
   "execution_count": 64,
   "metadata": {},
   "outputs": [
    {
     "name": "stdout",
     "output_type": "stream",
     "text": [
      "User choosen to generate recommendation list is B00008IOI3\n"
     ]
    }
   ],
   "source": [
    "\n",
    "print(\"User choosen to generate recommendation list is \" + str(uid))"
   ]
  },
  {
   "cell_type": "code",
   "execution_count": 68,
   "metadata": {},
   "outputs": [
    {
     "name": "stdout",
     "output_type": "stream",
     "text": [
      "Choosen User has purchased the following items \n",
      "A3719IMXC3P7O9\n",
      "AHP46VAR2Z046\n",
      "Recommended items for user B00008IOI3 by KNNBaseline \n",
      " ['A2ZAFIWPFIQGC4', 'AOFC7AHH6X5K', 'A1H16VPL9XKGGR', 'A1JC9YO2WQIUVE', 'A1DZUL4ROY7HTE', 'AZEF8VKTNXISS', 'A37I59D8GAH6RR', 'A3EGFSX6FQHWQ1', 'A1ENUQEIMTFJG3', 'A24PK4Q70CS0N0', 'A32M9CZX2NBE8M', 'A24G85HUDLJ8JA', 'A1BKO977F72Y6F', 'A1XQ0F01CF84Y3']\n"
     ]
    }
   ],
   "source": [
    "print(\"Choosen User has purchased the following items \")\n",
    "for items in items_purchased[0]: \n",
    "    print(algo_KNNBaseline.trainset.to_raw_iid(items))\n",
    "\n",
    "\n",
    "\n",
    "KNN_Product = algo_KNNBaseline.get_neighbors(items_purchased[0][0], 15)\n",
    "\n",
    "recommendedation_lits = []\n",
    "for product_iid in KNN_Product:\n",
    "    if not product_iid in items_purchased[0]: \n",
    "        purchased_item = algo_KNNBaseline.trainset.to_raw_iid(product_iid)\n",
    "        recommendedation_lits.append(purchased_item)\n",
    "print(\"Recommended items for user \" + str(uid) + \" by KNNBaseline \\n\"  , recommendedation_lits)    "
   ]
  }
 ],
 "metadata": {
  "kernelspec": {
   "display_name": "Python 3",
   "language": "python",
   "name": "python3"
  },
  "language_info": {
   "codemirror_mode": {
    "name": "ipython",
    "version": 3
   },
   "file_extension": ".py",
   "mimetype": "text/x-python",
   "name": "python",
   "nbconvert_exporter": "python",
   "pygments_lexer": "ipython3",
   "version": "3.7.1"
  }
 },
 "nbformat": 4,
 "nbformat_minor": 4
}
